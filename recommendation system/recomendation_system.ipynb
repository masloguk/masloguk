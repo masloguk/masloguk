{
 "cells": [
  {
   "cell_type": "code",
   "execution_count": 43,
   "metadata": {},
   "outputs": [],
   "source": [
    "#подгружаем необходимые библиотеки\n",
    "import numpy as np\n",
    "import pandas as pd\n",
    "import scipy\n",
    "import category_encoders as ce\n",
    "from sklearn import preprocessing\n",
    "from sklearn.model_selection import train_test_split\n",
    "import scipy.sparse as sparse\n",
    "import matplotlib.pyplot as plt\n",
    "import plotly.express as px\n",
    "from lightfm import LightFM\n",
    "from lightfm.evaluation import precision_at_k\n",
    "from joblib import dump"
   ]
  },
  {
   "cell_type": "code",
   "execution_count": 2,
   "metadata": {},
   "outputs": [],
   "source": [
    "#подгрузим основной датасет и удалим дубликаты\n",
    "events = pd.read_csv(\"events.csv\")\n",
    "events = events.drop_duplicates()"
   ]
  },
  {
   "cell_type": "code",
   "execution_count": 3,
   "metadata": {},
   "outputs": [],
   "source": [
    "#поменяем названия значений в столбце event\n",
    "ord_encoder = ce.OrdinalEncoder(mapping=[{\n",
    "\t'col': 'event',\n",
    "\t'mapping': {'view': 1, 'addtocart': 2, 'transaction': 3}\n",
    "}])\n",
    "# применяем трансформацию к столбцу\n",
    "data_bin = ord_encoder.fit_transform(events[['event']])\n",
    "events.drop('event', axis=1 , inplace=True)\n",
    "# добавляем результат к исходному DataFrame\n",
    "events = pd.concat([events, data_bin], axis=1)"
   ]
  },
  {
   "cell_type": "code",
   "execution_count": 4,
   "metadata": {},
   "outputs": [],
   "source": [
    "#избавимся от пропусков в столбце транзакий\n",
    "events['transactionid'] = events['transactionid'].fillna(0)"
   ]
  },
  {
   "cell_type": "markdown",
   "metadata": {},
   "source": [
    "Далее расширим датасет новыми переменными"
   ]
  },
  {
   "cell_type": "code",
   "execution_count": 5,
   "metadata": {},
   "outputs": [],
   "source": [
    "#вычленим дату\n",
    "events['date'] = pd.to_datetime(events['timestamp'], unit='ms')\n",
    "#вычленим день\n",
    "events['data'] = events['date'].dt.date\n",
    "#вычленим час дня\n",
    "events['hour'] = events['date'].dt.hour\n",
    "#вычленим месяц\n",
    "events['month'] = events['date'].dt.month\n",
    "#вычленим день недели\n",
    "events['day_of_week'] = events['date'].dt.day_of_week\n",
    "#вычленим выходные\n",
    "events[\"weekend\"] = events['date'].dt.dayofweek > 4\n",
    "events['weekend'] = np.where((events.weekend =='False'), 0, events.weekend)\n",
    "events['weekend'] = np.where((events.weekend =='True'), 1, events.weekend)\n",
    "#создадим столбец с праздничными днями\n",
    "events['data'] = events['data'].astype(str)\n",
    "events['data'] = events['data'].replace(to_replace=r'-', value = '', regex=True)\n",
    "events['data'] = events['data'].astype(int)"
   ]
  },
  {
   "cell_type": "code",
   "execution_count": 6,
   "metadata": {},
   "outputs": [],
   "source": [
    "#создадим функцию для выявления выходных дней\n",
    "def holidays(x):\n",
    "    if x >= 20150101 and x <= 20150110:\n",
    "        return 1\n",
    "    elif x == 20150224:\n",
    "        return 1\n",
    "    elif x == 20150308:\n",
    "        return 1\n",
    "    elif x == 20150501:\n",
    "        return 1\n",
    "    elif x == 20150509:\n",
    "        return 1\n",
    "    elif x == 20150612:\n",
    "        return 1\n",
    "    elif x == 20151231:\n",
    "        return 1\n",
    "    else:\n",
    "        return 0\n",
    "events['hol'] = events['data'].apply(holidays)"
   ]
  },
  {
   "cell_type": "code",
   "execution_count": 7,
   "metadata": {},
   "outputs": [],
   "source": [
    "#отсортируем датасет по времени\n",
    "events.sort_values('timestamp', inplace=True)"
   ]
  },
  {
   "cell_type": "code",
   "execution_count": 8,
   "metadata": {},
   "outputs": [],
   "source": [
    "#удалим столбец data\n",
    "events.drop('data', axis=1 , inplace=True)\n",
    "#удалим дубликаты\n",
    "events = events.fillna(0)"
   ]
  },
  {
   "cell_type": "code",
   "execution_count": 9,
   "metadata": {},
   "outputs": [
    {
     "data": {
      "text/html": [
       "<div>\n",
       "<style scoped>\n",
       "    .dataframe tbody tr th:only-of-type {\n",
       "        vertical-align: middle;\n",
       "    }\n",
       "\n",
       "    .dataframe tbody tr th {\n",
       "        vertical-align: top;\n",
       "    }\n",
       "\n",
       "    .dataframe thead th {\n",
       "        text-align: right;\n",
       "    }\n",
       "</style>\n",
       "<table border=\"1\" class=\"dataframe\">\n",
       "  <thead>\n",
       "    <tr style=\"text-align: right;\">\n",
       "      <th></th>\n",
       "      <th>timestamp</th>\n",
       "      <th>visitorid</th>\n",
       "      <th>itemid</th>\n",
       "      <th>transactionid</th>\n",
       "      <th>event</th>\n",
       "      <th>date</th>\n",
       "      <th>hour</th>\n",
       "      <th>month</th>\n",
       "      <th>day_of_week</th>\n",
       "      <th>weekend</th>\n",
       "      <th>hol</th>\n",
       "    </tr>\n",
       "  </thead>\n",
       "  <tbody>\n",
       "    <tr>\n",
       "      <th>1462974</th>\n",
       "      <td>1430622004384</td>\n",
       "      <td>693516</td>\n",
       "      <td>297662</td>\n",
       "      <td>0.0</td>\n",
       "      <td>2</td>\n",
       "      <td>2015-05-03 03:00:04.384</td>\n",
       "      <td>3</td>\n",
       "      <td>5</td>\n",
       "      <td>6</td>\n",
       "      <td>1</td>\n",
       "      <td>0</td>\n",
       "    </tr>\n",
       "    <tr>\n",
       "      <th>1464806</th>\n",
       "      <td>1430622011289</td>\n",
       "      <td>829044</td>\n",
       "      <td>60987</td>\n",
       "      <td>0.0</td>\n",
       "      <td>1</td>\n",
       "      <td>2015-05-03 03:00:11.289</td>\n",
       "      <td>3</td>\n",
       "      <td>5</td>\n",
       "      <td>6</td>\n",
       "      <td>1</td>\n",
       "      <td>0</td>\n",
       "    </tr>\n",
       "    <tr>\n",
       "      <th>1463000</th>\n",
       "      <td>1430622013048</td>\n",
       "      <td>652699</td>\n",
       "      <td>252860</td>\n",
       "      <td>0.0</td>\n",
       "      <td>1</td>\n",
       "      <td>2015-05-03 03:00:13.048</td>\n",
       "      <td>3</td>\n",
       "      <td>5</td>\n",
       "      <td>6</td>\n",
       "      <td>1</td>\n",
       "      <td>0</td>\n",
       "    </tr>\n",
       "    <tr>\n",
       "      <th>1465287</th>\n",
       "      <td>1430622024154</td>\n",
       "      <td>1125936</td>\n",
       "      <td>33661</td>\n",
       "      <td>0.0</td>\n",
       "      <td>1</td>\n",
       "      <td>2015-05-03 03:00:24.154</td>\n",
       "      <td>3</td>\n",
       "      <td>5</td>\n",
       "      <td>6</td>\n",
       "      <td>1</td>\n",
       "      <td>0</td>\n",
       "    </tr>\n",
       "    <tr>\n",
       "      <th>1462955</th>\n",
       "      <td>1430622026228</td>\n",
       "      <td>693516</td>\n",
       "      <td>297662</td>\n",
       "      <td>0.0</td>\n",
       "      <td>1</td>\n",
       "      <td>2015-05-03 03:00:26.228</td>\n",
       "      <td>3</td>\n",
       "      <td>5</td>\n",
       "      <td>6</td>\n",
       "      <td>1</td>\n",
       "      <td>0</td>\n",
       "    </tr>\n",
       "  </tbody>\n",
       "</table>\n",
       "</div>"
      ],
      "text/plain": [
       "             timestamp  visitorid  itemid  transactionid  event  \\\n",
       "1462974  1430622004384     693516  297662            0.0      2   \n",
       "1464806  1430622011289     829044   60987            0.0      1   \n",
       "1463000  1430622013048     652699  252860            0.0      1   \n",
       "1465287  1430622024154    1125936   33661            0.0      1   \n",
       "1462955  1430622026228     693516  297662            0.0      1   \n",
       "\n",
       "                           date  hour  month  day_of_week  weekend  hol  \n",
       "1462974 2015-05-03 03:00:04.384     3      5            6        1    0  \n",
       "1464806 2015-05-03 03:00:11.289     3      5            6        1    0  \n",
       "1463000 2015-05-03 03:00:13.048     3      5            6        1    0  \n",
       "1465287 2015-05-03 03:00:24.154     3      5            6        1    0  \n",
       "1462955 2015-05-03 03:00:26.228     3      5            6        1    0  "
      ]
     },
     "execution_count": 9,
     "metadata": {},
     "output_type": "execute_result"
    }
   ],
   "source": [
    "#посмотрим результат\n",
    "events.head()"
   ]
  },
  {
   "cell_type": "code",
   "execution_count": 10,
   "metadata": {},
   "outputs": [
    {
     "name": "stdout",
     "output_type": "stream",
     "text": [
      "<class 'pandas.core.frame.DataFrame'>\n",
      "Int64Index: 2755641 entries, 1462974 to 1459312\n",
      "Data columns (total 11 columns):\n",
      " #   Column         Dtype         \n",
      "---  ------         -----         \n",
      " 0   timestamp      int64         \n",
      " 1   visitorid      int64         \n",
      " 2   itemid         int64         \n",
      " 3   transactionid  float64       \n",
      " 4   event          int64         \n",
      " 5   date           datetime64[ns]\n",
      " 6   hour           int64         \n",
      " 7   month          int64         \n",
      " 8   day_of_week    int64         \n",
      " 9   weekend        int64         \n",
      " 10  hol            int64         \n",
      "dtypes: datetime64[ns](1), float64(1), int64(9)\n",
      "memory usage: 252.3 MB\n"
     ]
    }
   ],
   "source": [
    "events.info()"
   ]
  },
  {
   "cell_type": "markdown",
   "metadata": {},
   "source": [
    "Проанализируем данные"
   ]
  },
  {
   "cell_type": "code",
   "execution_count": 11,
   "metadata": {},
   "outputs": [
    {
     "data": {
      "text/plain": [
       "1407580"
      ]
     },
     "execution_count": 11,
     "metadata": {},
     "output_type": "execute_result"
    }
   ],
   "source": [
    "#посмотрим на количесто уникальных пользователей\n",
    "len(events['visitorid'].unique())"
   ]
  },
  {
   "cell_type": "code",
   "execution_count": 12,
   "metadata": {},
   "outputs": [
    {
     "data": {
      "text/plain": [
       "235061"
      ]
     },
     "execution_count": 12,
     "metadata": {},
     "output_type": "execute_result"
    }
   ],
   "source": [
    "#посмотрим на количесто уникальных товаров\n",
    "len(events['itemid'].unique())"
   ]
  },
  {
   "cell_type": "code",
   "execution_count": null,
   "metadata": {},
   "outputs": [],
   "source": [
    "#посмотрим на значения переменной \"event\"\n",
    "fig = px.histogram(\n",
    "data_frame=events,\n",
    "x='event',\n",
    "title='Распределение признака event',\n",
    "width=1000,\n",
    "height=500,\n",
    "histnorm='percent',\n",
    ")\n",
    "marginal='box',\n",
    "fig.show()"
   ]
  },
  {
   "cell_type": "markdown",
   "metadata": {},
   "source": [
    "Наиболее популярное действие - view. Поэтому рекомендательную систему построить на основании данного показателя"
   ]
  },
  {
   "cell_type": "code",
   "execution_count": 14,
   "metadata": {},
   "outputs": [],
   "source": [
    "#создадим новый столбец, в котором будут только те строчки, которые означают, что покупатель просматривал данный товар \n",
    "events['event_value'] = (events['event'] == 1).astype(int)"
   ]
  },
  {
   "cell_type": "code",
   "execution_count": null,
   "metadata": {},
   "outputs": [],
   "source": [
    "#посмотрим в какое время чаще совершаются просмотры на сайте\n",
    "event_data = (events.groupby('hour')['event_value'].sum().reset_index())\n",
    "#строим график\n",
    "fig = px.bar(\n",
    "    data_frame=event_data,\n",
    "    x='hour',\n",
    "    y='event_value', \n",
    "    color='event_value',\n",
    "    orientation='v',\n",
    "    height=500,\n",
    "    width=1000,\n",
    "    title='Просмотры на сайте по часам дня'\n",
    ")\n",
    "fig.show()"
   ]
  },
  {
   "cell_type": "markdown",
   "metadata": {},
   "source": [
    "Пик действий на сайте приходится на конец дня"
   ]
  },
  {
   "cell_type": "code",
   "execution_count": null,
   "metadata": {},
   "outputs": [],
   "source": [
    "#посмотрим в какой месяц чаще совершаются просмотры на сайте\n",
    "month_data = (events.groupby('month')['event_value'].sum().reset_index())\n",
    "#строим график\n",
    "fig = px.bar(\n",
    "    data_frame=month_data,\n",
    "    x='month',\n",
    "    y='event_value', \n",
    "    color='event_value',\n",
    "    orientation='v',\n",
    "    height=500,\n",
    "    width=1000,\n",
    "    title='Просмотры на сайте по месяцам'\n",
    ")\n",
    "fig.show()"
   ]
  },
  {
   "cell_type": "markdown",
   "metadata": {},
   "source": [
    "Июль - наиболее популярный месяц по просмотрам"
   ]
  },
  {
   "cell_type": "code",
   "execution_count": null,
   "metadata": {},
   "outputs": [],
   "source": [
    "#посмотрим в какой день недели чаще совершаются просмотры на сайте\n",
    "week_data = (events.groupby('day_of_week')['event_value'].sum().reset_index())\n",
    "#строим график\n",
    "fig = px.bar(\n",
    "    data_frame=week_data,\n",
    "    x='day_of_week',\n",
    "    y='event_value', \n",
    "    color='event_value',\n",
    "    orientation='v',\n",
    "    height=500,\n",
    "    width=1000,\n",
    "    title='Просмотры на сайте по дням недели'\n",
    ")\n",
    "fig.show()"
   ]
  },
  {
   "cell_type": "markdown",
   "metadata": {},
   "source": [
    "Начало недели - наиболее продуктивно по просмотрам товаров"
   ]
  },
  {
   "cell_type": "code",
   "execution_count": null,
   "metadata": {},
   "outputs": [],
   "source": [
    "#посмотрим траты на покупки товаров в выходные и будние дни\n",
    "weekend_data = (events.groupby('weekend')['transactionid'].mean().reset_index())\n",
    "#строим график\n",
    "fig = px.bar(\n",
    "    data_frame=weekend_data,\n",
    "    x='weekend',\n",
    "    y='transactionid', \n",
    "    color='transactionid',\n",
    "    orientation='v',\n",
    "    height=500,\n",
    "    width=1000,\n",
    "    title='Покупки на сайте по выходным'\n",
    ")\n",
    "fig.show()"
   ]
  },
  {
   "cell_type": "markdown",
   "metadata": {},
   "source": [
    "Люди тратят деньги чаще также в будние дни"
   ]
  },
  {
   "cell_type": "code",
   "execution_count": null,
   "metadata": {},
   "outputs": [],
   "source": [
    "#посмотрим просмотры товаров в будние и праздничные дни\n",
    "hol_data = (events.groupby('hol')['transactionid'].mean().reset_index())\n",
    "#строим график\n",
    "fig = px.bar(\n",
    "    data_frame=hol_data,\n",
    "    x='hol',\n",
    "    y='transactionid', \n",
    "    color='transactionid',\n",
    "    orientation='v',\n",
    "    height=500,\n",
    "    width=1000,\n",
    "    title='Покупки на сайте по праздничным и обычным дням'\n",
    ")\n",
    "fig.show()"
   ]
  },
  {
   "cell_type": "markdown",
   "metadata": {},
   "source": [
    "Такое же соотношение и по отношению к праздничным дням, в эти дни также тратят меньше"
   ]
  },
  {
   "cell_type": "markdown",
   "metadata": {},
   "source": [
    "Перейдем к построению рекомендательной системы"
   ]
  },
  {
   "cell_type": "code",
   "execution_count": 24,
   "metadata": {},
   "outputs": [],
   "source": [
    "#уберем пользователей, редко посещающих интернет-магазин, ограничим это число 30 посещениями\n",
    "rm = events['visitorid'].value_counts().loc[lambda x : x < 30].index.tolist()\n",
    "events = events[events.visitorid.isin (rm) == False ]"
   ]
  },
  {
   "cell_type": "code",
   "execution_count": 27,
   "metadata": {},
   "outputs": [],
   "source": [
    "#разделим выборку на обучающую и тестовую\n",
    "train, test = train_test_split(events, test_size=0.2, shuffle=False)"
   ]
  },
  {
   "cell_type": "code",
   "execution_count": 28,
   "metadata": {},
   "outputs": [
    {
     "name": "stdout",
     "output_type": "stream",
     "text": [
      "(2821, 46337)\n",
      "(1267, 18618)\n"
     ]
    }
   ],
   "source": [
    "#создадим матрицы для построения рекомендательных систем\n",
    "train_pivot = pd.pivot_table(\n",
    "    train,\n",
    "    index=\"visitorid\", \n",
    "    columns=\"itemid\", \n",
    "    values=\"event_value\"\n",
    ")\n",
    "test_pivot = pd.pivot_table(\n",
    "    test,\n",
    "    index=\"visitorid\", \n",
    "    columns=\"itemid\", \n",
    "    values=\"event_value\"\n",
    ")\n",
    "\n",
    "print(train_pivot.shape)\n",
    "print(test_pivot.shape)"
   ]
  },
  {
   "cell_type": "code",
   "execution_count": 29,
   "metadata": {},
   "outputs": [
    {
     "data": {
      "text/html": [
       "<div>\n",
       "<style scoped>\n",
       "    .dataframe tbody tr th:only-of-type {\n",
       "        vertical-align: middle;\n",
       "    }\n",
       "\n",
       "    .dataframe tbody tr th {\n",
       "        vertical-align: top;\n",
       "    }\n",
       "\n",
       "    .dataframe thead th {\n",
       "        text-align: right;\n",
       "    }\n",
       "</style>\n",
       "<table border=\"1\" class=\"dataframe\">\n",
       "  <thead>\n",
       "    <tr style=\"text-align: right;\">\n",
       "      <th>itemid</th>\n",
       "      <th>6</th>\n",
       "      <th>15</th>\n",
       "      <th>16</th>\n",
       "      <th>17</th>\n",
       "      <th>19</th>\n",
       "      <th>25</th>\n",
       "      <th>26</th>\n",
       "      <th>33</th>\n",
       "      <th>42</th>\n",
       "      <th>54</th>\n",
       "      <th>...</th>\n",
       "      <th>466776</th>\n",
       "      <th>466781</th>\n",
       "      <th>466783</th>\n",
       "      <th>466789</th>\n",
       "      <th>466796</th>\n",
       "      <th>466830</th>\n",
       "      <th>466843</th>\n",
       "      <th>466849</th>\n",
       "      <th>466861</th>\n",
       "      <th>466864</th>\n",
       "    </tr>\n",
       "    <tr>\n",
       "      <th>visitorid</th>\n",
       "      <th></th>\n",
       "      <th></th>\n",
       "      <th></th>\n",
       "      <th></th>\n",
       "      <th></th>\n",
       "      <th></th>\n",
       "      <th></th>\n",
       "      <th></th>\n",
       "      <th></th>\n",
       "      <th></th>\n",
       "      <th></th>\n",
       "      <th></th>\n",
       "      <th></th>\n",
       "      <th></th>\n",
       "      <th></th>\n",
       "      <th></th>\n",
       "      <th></th>\n",
       "      <th></th>\n",
       "      <th></th>\n",
       "      <th></th>\n",
       "      <th></th>\n",
       "    </tr>\n",
       "  </thead>\n",
       "  <tbody>\n",
       "    <tr>\n",
       "      <th>172</th>\n",
       "      <td>NaN</td>\n",
       "      <td>NaN</td>\n",
       "      <td>NaN</td>\n",
       "      <td>NaN</td>\n",
       "      <td>NaN</td>\n",
       "      <td>NaN</td>\n",
       "      <td>NaN</td>\n",
       "      <td>NaN</td>\n",
       "      <td>NaN</td>\n",
       "      <td>NaN</td>\n",
       "      <td>...</td>\n",
       "      <td>NaN</td>\n",
       "      <td>NaN</td>\n",
       "      <td>NaN</td>\n",
       "      <td>NaN</td>\n",
       "      <td>NaN</td>\n",
       "      <td>NaN</td>\n",
       "      <td>NaN</td>\n",
       "      <td>NaN</td>\n",
       "      <td>NaN</td>\n",
       "      <td>NaN</td>\n",
       "    </tr>\n",
       "    <tr>\n",
       "      <th>1014</th>\n",
       "      <td>NaN</td>\n",
       "      <td>NaN</td>\n",
       "      <td>NaN</td>\n",
       "      <td>NaN</td>\n",
       "      <td>NaN</td>\n",
       "      <td>NaN</td>\n",
       "      <td>NaN</td>\n",
       "      <td>NaN</td>\n",
       "      <td>NaN</td>\n",
       "      <td>NaN</td>\n",
       "      <td>...</td>\n",
       "      <td>NaN</td>\n",
       "      <td>NaN</td>\n",
       "      <td>NaN</td>\n",
       "      <td>NaN</td>\n",
       "      <td>NaN</td>\n",
       "      <td>NaN</td>\n",
       "      <td>NaN</td>\n",
       "      <td>NaN</td>\n",
       "      <td>NaN</td>\n",
       "      <td>NaN</td>\n",
       "    </tr>\n",
       "    <tr>\n",
       "      <th>1722</th>\n",
       "      <td>NaN</td>\n",
       "      <td>NaN</td>\n",
       "      <td>NaN</td>\n",
       "      <td>NaN</td>\n",
       "      <td>NaN</td>\n",
       "      <td>NaN</td>\n",
       "      <td>NaN</td>\n",
       "      <td>NaN</td>\n",
       "      <td>NaN</td>\n",
       "      <td>NaN</td>\n",
       "      <td>...</td>\n",
       "      <td>NaN</td>\n",
       "      <td>NaN</td>\n",
       "      <td>NaN</td>\n",
       "      <td>NaN</td>\n",
       "      <td>NaN</td>\n",
       "      <td>NaN</td>\n",
       "      <td>NaN</td>\n",
       "      <td>NaN</td>\n",
       "      <td>NaN</td>\n",
       "      <td>NaN</td>\n",
       "    </tr>\n",
       "    <tr>\n",
       "      <th>1879</th>\n",
       "      <td>NaN</td>\n",
       "      <td>NaN</td>\n",
       "      <td>NaN</td>\n",
       "      <td>NaN</td>\n",
       "      <td>NaN</td>\n",
       "      <td>NaN</td>\n",
       "      <td>NaN</td>\n",
       "      <td>NaN</td>\n",
       "      <td>NaN</td>\n",
       "      <td>NaN</td>\n",
       "      <td>...</td>\n",
       "      <td>NaN</td>\n",
       "      <td>NaN</td>\n",
       "      <td>NaN</td>\n",
       "      <td>NaN</td>\n",
       "      <td>NaN</td>\n",
       "      <td>NaN</td>\n",
       "      <td>NaN</td>\n",
       "      <td>NaN</td>\n",
       "      <td>NaN</td>\n",
       "      <td>NaN</td>\n",
       "    </tr>\n",
       "    <tr>\n",
       "      <th>2019</th>\n",
       "      <td>NaN</td>\n",
       "      <td>NaN</td>\n",
       "      <td>NaN</td>\n",
       "      <td>NaN</td>\n",
       "      <td>NaN</td>\n",
       "      <td>NaN</td>\n",
       "      <td>NaN</td>\n",
       "      <td>NaN</td>\n",
       "      <td>NaN</td>\n",
       "      <td>NaN</td>\n",
       "      <td>...</td>\n",
       "      <td>NaN</td>\n",
       "      <td>NaN</td>\n",
       "      <td>NaN</td>\n",
       "      <td>NaN</td>\n",
       "      <td>NaN</td>\n",
       "      <td>NaN</td>\n",
       "      <td>NaN</td>\n",
       "      <td>NaN</td>\n",
       "      <td>NaN</td>\n",
       "      <td>NaN</td>\n",
       "    </tr>\n",
       "  </tbody>\n",
       "</table>\n",
       "<p>5 rows × 53393 columns</p>\n",
       "</div>"
      ],
      "text/plain": [
       "itemid     6       15      16      17      19      25      26      33      \\\n",
       "visitorid                                                                   \n",
       "172           NaN     NaN     NaN     NaN     NaN     NaN     NaN     NaN   \n",
       "1014          NaN     NaN     NaN     NaN     NaN     NaN     NaN     NaN   \n",
       "1722          NaN     NaN     NaN     NaN     NaN     NaN     NaN     NaN   \n",
       "1879          NaN     NaN     NaN     NaN     NaN     NaN     NaN     NaN   \n",
       "2019          NaN     NaN     NaN     NaN     NaN     NaN     NaN     NaN   \n",
       "\n",
       "itemid     42      54      ...  466776  466781  466783  466789  466796  \\\n",
       "visitorid                  ...                                           \n",
       "172           NaN     NaN  ...     NaN     NaN     NaN     NaN     NaN   \n",
       "1014          NaN     NaN  ...     NaN     NaN     NaN     NaN     NaN   \n",
       "1722          NaN     NaN  ...     NaN     NaN     NaN     NaN     NaN   \n",
       "1879          NaN     NaN  ...     NaN     NaN     NaN     NaN     NaN   \n",
       "2019          NaN     NaN  ...     NaN     NaN     NaN     NaN     NaN   \n",
       "\n",
       "itemid     466830  466843  466849  466861  466864  \n",
       "visitorid                                          \n",
       "172           NaN     NaN     NaN     NaN     NaN  \n",
       "1014          NaN     NaN     NaN     NaN     NaN  \n",
       "1722          NaN     NaN     NaN     NaN     NaN  \n",
       "1879          NaN     NaN     NaN     NaN     NaN  \n",
       "2019          NaN     NaN     NaN     NaN     NaN  \n",
       "\n",
       "[5 rows x 53393 columns]"
      ]
     },
     "execution_count": 29,
     "metadata": {},
     "output_type": "execute_result"
    }
   ],
   "source": [
    "#создадим матрицу всего датасета\n",
    "shell = pd.pivot_table(\n",
    "    events, \n",
    "    index=\"visitorid\", \n",
    "    columns=\"itemid\", \n",
    "    values=\"event_value\",\n",
    "    aggfunc=lambda x: 0\n",
    ")\n",
    "shell.head()"
   ]
  },
  {
   "cell_type": "code",
   "execution_count": 30,
   "metadata": {},
   "outputs": [
    {
     "name": "stdout",
     "output_type": "stream",
     "text": [
      "(3170, 53393)\n",
      "(3170, 53393)\n"
     ]
    },
    {
     "data": {
      "text/html": [
       "<div>\n",
       "<style scoped>\n",
       "    .dataframe tbody tr th:only-of-type {\n",
       "        vertical-align: middle;\n",
       "    }\n",
       "\n",
       "    .dataframe tbody tr th {\n",
       "        vertical-align: top;\n",
       "    }\n",
       "\n",
       "    .dataframe thead th {\n",
       "        text-align: right;\n",
       "    }\n",
       "</style>\n",
       "<table border=\"1\" class=\"dataframe\">\n",
       "  <thead>\n",
       "    <tr style=\"text-align: right;\">\n",
       "      <th>itemid</th>\n",
       "      <th>6</th>\n",
       "      <th>15</th>\n",
       "      <th>16</th>\n",
       "      <th>17</th>\n",
       "      <th>19</th>\n",
       "      <th>25</th>\n",
       "      <th>26</th>\n",
       "      <th>33</th>\n",
       "      <th>42</th>\n",
       "      <th>54</th>\n",
       "      <th>...</th>\n",
       "      <th>466776</th>\n",
       "      <th>466781</th>\n",
       "      <th>466783</th>\n",
       "      <th>466789</th>\n",
       "      <th>466796</th>\n",
       "      <th>466830</th>\n",
       "      <th>466843</th>\n",
       "      <th>466849</th>\n",
       "      <th>466861</th>\n",
       "      <th>466864</th>\n",
       "    </tr>\n",
       "    <tr>\n",
       "      <th>visitorid</th>\n",
       "      <th></th>\n",
       "      <th></th>\n",
       "      <th></th>\n",
       "      <th></th>\n",
       "      <th></th>\n",
       "      <th></th>\n",
       "      <th></th>\n",
       "      <th></th>\n",
       "      <th></th>\n",
       "      <th></th>\n",
       "      <th></th>\n",
       "      <th></th>\n",
       "      <th></th>\n",
       "      <th></th>\n",
       "      <th></th>\n",
       "      <th></th>\n",
       "      <th></th>\n",
       "      <th></th>\n",
       "      <th></th>\n",
       "      <th></th>\n",
       "      <th></th>\n",
       "    </tr>\n",
       "  </thead>\n",
       "  <tbody>\n",
       "    <tr>\n",
       "      <th>172</th>\n",
       "      <td>0.0</td>\n",
       "      <td>0.0</td>\n",
       "      <td>0.0</td>\n",
       "      <td>0.0</td>\n",
       "      <td>0.0</td>\n",
       "      <td>0.0</td>\n",
       "      <td>0.0</td>\n",
       "      <td>0.0</td>\n",
       "      <td>0.0</td>\n",
       "      <td>0.0</td>\n",
       "      <td>...</td>\n",
       "      <td>0.0</td>\n",
       "      <td>0.0</td>\n",
       "      <td>0.0</td>\n",
       "      <td>0.0</td>\n",
       "      <td>0.0</td>\n",
       "      <td>0.0</td>\n",
       "      <td>0.0</td>\n",
       "      <td>0.0</td>\n",
       "      <td>0.0</td>\n",
       "      <td>0.0</td>\n",
       "    </tr>\n",
       "    <tr>\n",
       "      <th>1014</th>\n",
       "      <td>0.0</td>\n",
       "      <td>0.0</td>\n",
       "      <td>0.0</td>\n",
       "      <td>0.0</td>\n",
       "      <td>0.0</td>\n",
       "      <td>0.0</td>\n",
       "      <td>0.0</td>\n",
       "      <td>0.0</td>\n",
       "      <td>0.0</td>\n",
       "      <td>0.0</td>\n",
       "      <td>...</td>\n",
       "      <td>0.0</td>\n",
       "      <td>0.0</td>\n",
       "      <td>0.0</td>\n",
       "      <td>0.0</td>\n",
       "      <td>0.0</td>\n",
       "      <td>0.0</td>\n",
       "      <td>0.0</td>\n",
       "      <td>0.0</td>\n",
       "      <td>0.0</td>\n",
       "      <td>0.0</td>\n",
       "    </tr>\n",
       "    <tr>\n",
       "      <th>1722</th>\n",
       "      <td>0.0</td>\n",
       "      <td>0.0</td>\n",
       "      <td>0.0</td>\n",
       "      <td>0.0</td>\n",
       "      <td>0.0</td>\n",
       "      <td>0.0</td>\n",
       "      <td>0.0</td>\n",
       "      <td>0.0</td>\n",
       "      <td>0.0</td>\n",
       "      <td>0.0</td>\n",
       "      <td>...</td>\n",
       "      <td>0.0</td>\n",
       "      <td>0.0</td>\n",
       "      <td>0.0</td>\n",
       "      <td>0.0</td>\n",
       "      <td>0.0</td>\n",
       "      <td>0.0</td>\n",
       "      <td>0.0</td>\n",
       "      <td>0.0</td>\n",
       "      <td>0.0</td>\n",
       "      <td>0.0</td>\n",
       "    </tr>\n",
       "    <tr>\n",
       "      <th>1879</th>\n",
       "      <td>0.0</td>\n",
       "      <td>0.0</td>\n",
       "      <td>0.0</td>\n",
       "      <td>0.0</td>\n",
       "      <td>0.0</td>\n",
       "      <td>0.0</td>\n",
       "      <td>0.0</td>\n",
       "      <td>0.0</td>\n",
       "      <td>0.0</td>\n",
       "      <td>0.0</td>\n",
       "      <td>...</td>\n",
       "      <td>0.0</td>\n",
       "      <td>0.0</td>\n",
       "      <td>0.0</td>\n",
       "      <td>0.0</td>\n",
       "      <td>0.0</td>\n",
       "      <td>0.0</td>\n",
       "      <td>0.0</td>\n",
       "      <td>0.0</td>\n",
       "      <td>0.0</td>\n",
       "      <td>0.0</td>\n",
       "    </tr>\n",
       "    <tr>\n",
       "      <th>2019</th>\n",
       "      <td>0.0</td>\n",
       "      <td>0.0</td>\n",
       "      <td>0.0</td>\n",
       "      <td>0.0</td>\n",
       "      <td>0.0</td>\n",
       "      <td>0.0</td>\n",
       "      <td>0.0</td>\n",
       "      <td>0.0</td>\n",
       "      <td>0.0</td>\n",
       "      <td>0.0</td>\n",
       "      <td>...</td>\n",
       "      <td>0.0</td>\n",
       "      <td>0.0</td>\n",
       "      <td>0.0</td>\n",
       "      <td>0.0</td>\n",
       "      <td>0.0</td>\n",
       "      <td>0.0</td>\n",
       "      <td>0.0</td>\n",
       "      <td>0.0</td>\n",
       "      <td>0.0</td>\n",
       "      <td>0.0</td>\n",
       "    </tr>\n",
       "  </tbody>\n",
       "</table>\n",
       "<p>5 rows × 53393 columns</p>\n",
       "</div>"
      ],
      "text/plain": [
       "itemid     6       15      16      17      19      25      26      33      \\\n",
       "visitorid                                                                   \n",
       "172           0.0     0.0     0.0     0.0     0.0     0.0     0.0     0.0   \n",
       "1014          0.0     0.0     0.0     0.0     0.0     0.0     0.0     0.0   \n",
       "1722          0.0     0.0     0.0     0.0     0.0     0.0     0.0     0.0   \n",
       "1879          0.0     0.0     0.0     0.0     0.0     0.0     0.0     0.0   \n",
       "2019          0.0     0.0     0.0     0.0     0.0     0.0     0.0     0.0   \n",
       "\n",
       "itemid     42      54      ...  466776  466781  466783  466789  466796  \\\n",
       "visitorid                  ...                                           \n",
       "172           0.0     0.0  ...     0.0     0.0     0.0     0.0     0.0   \n",
       "1014          0.0     0.0  ...     0.0     0.0     0.0     0.0     0.0   \n",
       "1722          0.0     0.0  ...     0.0     0.0     0.0     0.0     0.0   \n",
       "1879          0.0     0.0  ...     0.0     0.0     0.0     0.0     0.0   \n",
       "2019          0.0     0.0  ...     0.0     0.0     0.0     0.0     0.0   \n",
       "\n",
       "itemid     466830  466843  466849  466861  466864  \n",
       "visitorid                                          \n",
       "172           0.0     0.0     0.0     0.0     0.0  \n",
       "1014          0.0     0.0     0.0     0.0     0.0  \n",
       "1722          0.0     0.0     0.0     0.0     0.0  \n",
       "1879          0.0     0.0     0.0     0.0     0.0  \n",
       "2019          0.0     0.0     0.0     0.0     0.0  \n",
       "\n",
       "[5 rows x 53393 columns]"
      ]
     },
     "execution_count": 30,
     "metadata": {},
     "output_type": "execute_result"
    }
   ],
   "source": [
    "#соединим матрицы, заполним пропуски, добавим к каждому значению \"+ 1\" для корректной работы модели\n",
    "train_pivot = shell + train_pivot\n",
    "test_pivot = shell + test_pivot\n",
    "\n",
    "train_pivot = (train_pivot + 1).fillna(0)\n",
    "test_pivot = (test_pivot + 1).fillna(0)\n",
    "print(train_pivot.shape)\n",
    "print(test_pivot.shape)\n",
    "\n",
    "train_pivot.head()"
   ]
  },
  {
   "cell_type": "code",
   "execution_count": 31,
   "metadata": {},
   "outputs": [],
   "source": [
    "#для работы с моделью построим разреженные матрицы\n",
    "train_pivot_sparse = scipy.sparse.csr_matrix(train_pivot.values)\n",
    "test_pivot_sparse = scipy.sparse.csr_matrix(test_pivot.values)"
   ]
  },
  {
   "cell_type": "code",
   "execution_count": 33,
   "metadata": {},
   "outputs": [
    {
     "data": {
      "text/plain": [
       "<lightfm.lightfm.LightFM at 0x16dfe71f0>"
      ]
     },
     "execution_count": 33,
     "metadata": {},
     "output_type": "execute_result"
    }
   ],
   "source": [
    "#построим модель \"LightFM\" с гиперпараметрами\n",
    "model_lfm = LightFM(no_components=150, loss='warp', learning_rate=0.05, learning_schedule=\"adadelta\", random_state=42)\n",
    "model_lfm.fit(train_pivot_sparse, epochs=30, num_threads=2)"
   ]
  },
  {
   "cell_type": "code",
   "execution_count": 34,
   "metadata": {},
   "outputs": [
    {
     "name": "stdout",
     "output_type": "stream",
     "text": [
      "Mean Average Precision at 3: 0.075\n"
     ]
    }
   ],
   "source": [
    "#посмотрим метрику\n",
    "map_at3 = precision_at_k(model_lfm, test_pivot_sparse, k=3).mean()\n",
    "print('Mean Average Precision at 3: {:.3f}'.format(map_at3))"
   ]
  },
  {
   "cell_type": "code",
   "execution_count": 36,
   "metadata": {},
   "outputs": [],
   "source": [
    "#сохраним модель\n",
    "#dump(model_lfm, 'model_lfm.joblib')"
   ]
  },
  {
   "cell_type": "markdown",
   "metadata": {},
   "source": [
    "Поскольку список юзеров в изначальном датасете и список юзеров в новом датасете не совпадают, создадим списки данных пользователей"
   ]
  },
  {
   "cell_type": "code",
   "execution_count": 37,
   "metadata": {},
   "outputs": [],
   "source": [
    "#создадим список изначальных пользователей\n",
    "old_users = train_pivot.index.to_list()\n",
    "#сбросим индексы для построения рекомендательной системы\n",
    "train_pivot.reset_index(drop=True, inplace=True)\n",
    "#создадим список новых пользователей\n",
    "new_users = list(train_pivot.index.values)"
   ]
  },
  {
   "cell_type": "code",
   "execution_count": 38,
   "metadata": {},
   "outputs": [],
   "source": [
    "#создадим отдельный датасет, который сопоставит старый и новый список пользователей\n",
    "users_df =  pd.DataFrame(\n",
    "    {'model_user': new_users,\n",
    "     'real_user': old_users\n",
    "    })"
   ]
  },
  {
   "cell_type": "code",
   "execution_count": 39,
   "metadata": {},
   "outputs": [
    {
     "data": {
      "text/html": [
       "<div>\n",
       "<style scoped>\n",
       "    .dataframe tbody tr th:only-of-type {\n",
       "        vertical-align: middle;\n",
       "    }\n",
       "\n",
       "    .dataframe tbody tr th {\n",
       "        vertical-align: top;\n",
       "    }\n",
       "\n",
       "    .dataframe thead th {\n",
       "        text-align: right;\n",
       "    }\n",
       "</style>\n",
       "<table border=\"1\" class=\"dataframe\">\n",
       "  <thead>\n",
       "    <tr style=\"text-align: right;\">\n",
       "      <th></th>\n",
       "      <th>model_user</th>\n",
       "      <th>real_user</th>\n",
       "    </tr>\n",
       "  </thead>\n",
       "  <tbody>\n",
       "    <tr>\n",
       "      <th>0</th>\n",
       "      <td>0</td>\n",
       "      <td>172</td>\n",
       "    </tr>\n",
       "    <tr>\n",
       "      <th>1</th>\n",
       "      <td>1</td>\n",
       "      <td>1014</td>\n",
       "    </tr>\n",
       "    <tr>\n",
       "      <th>2</th>\n",
       "      <td>2</td>\n",
       "      <td>1722</td>\n",
       "    </tr>\n",
       "    <tr>\n",
       "      <th>3</th>\n",
       "      <td>3</td>\n",
       "      <td>1879</td>\n",
       "    </tr>\n",
       "    <tr>\n",
       "      <th>4</th>\n",
       "      <td>4</td>\n",
       "      <td>2019</td>\n",
       "    </tr>\n",
       "  </tbody>\n",
       "</table>\n",
       "</div>"
      ],
      "text/plain": [
       "   model_user  real_user\n",
       "0           0        172\n",
       "1           1       1014\n",
       "2           2       1722\n",
       "3           3       1879\n",
       "4           4       2019"
      ]
     },
     "execution_count": 39,
     "metadata": {},
     "output_type": "execute_result"
    }
   ],
   "source": [
    "users_df.head()"
   ]
  },
  {
   "cell_type": "code",
   "execution_count": 40,
   "metadata": {},
   "outputs": [],
   "source": [
    "#создадим функцию для перевода значения из изначального списка в новый список\n",
    "def rs_unit(x):\n",
    "    xx = users_df[(users_df[\"real_user\"] == x)]\n",
    "    number = int(xx[\"model_user\"])\n",
    "    return number"
   ]
  },
  {
   "cell_type": "code",
   "execution_count": 41,
   "metadata": {},
   "outputs": [],
   "source": [
    "#создадим уникальные значения юзеров и товаров, для предсказывания товаров с помощью модели\n",
    "unique_items = np.array(train_pivot.columns)\n",
    "item_ids = np.array(train_pivot.index)"
   ]
  },
  {
   "cell_type": "markdown",
   "metadata": {},
   "source": [
    "Последний этап - функция для рекомендации товаров для отдельного пользователя"
   ]
  },
  {
   "cell_type": "code",
   "execution_count": 42,
   "metadata": {},
   "outputs": [
    {
     "name": "stdout",
     "output_type": "stream",
     "text": [
      "Рекомендации для пользователя 172: [27248 10034 18519]\n"
     ]
    }
   ],
   "source": [
    "def units():\n",
    "    user_id = input('Введите номер пользователя:')\n",
    "    user_id = int(user_id)\n",
    "    if user_id in old_users:\n",
    "        user_id_new = rs_unit(user_id)\n",
    "        list_pred = model_lfm.predict(user_id_new, item_ids)\n",
    "        recomendations_ids = np.argsort(-list_pred)[:3]\n",
    "        recomendations = unique_items[recomendations_ids]\n",
    "        print('Рекомендации для пользователя {}: {}'.format(user_id, recomendations))\n",
    "    else:\n",
    "        print('Такого пользователя не существует. Введите другого пользователя')\n",
    "\n",
    "for i in range(1):\n",
    "    units()"
   ]
  }
 ],
 "metadata": {
  "interpreter": {
   "hash": "397704579725e15f5c7cb49fe5f0341eb7531c82d19f2c29d197e8b64ab5776b"
  },
  "kernelspec": {
   "display_name": "Python 3.9.13 64-bit",
   "language": "python",
   "name": "python3"
  },
  "language_info": {
   "codemirror_mode": {
    "name": "ipython",
    "version": 3
   },
   "file_extension": ".py",
   "mimetype": "text/x-python",
   "name": "python",
   "nbconvert_exporter": "python",
   "pygments_lexer": "ipython3",
   "version": "3.9.13"
  },
  "orig_nbformat": 4
 },
 "nbformat": 4,
 "nbformat_minor": 2
}
